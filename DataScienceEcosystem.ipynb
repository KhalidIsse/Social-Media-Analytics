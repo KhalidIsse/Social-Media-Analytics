{
 "cells": [
  {
   "cell_type": "markdown",
   "id": "dec9d3a5",
   "metadata": {},
   "source": [
    "# Data Science Tools and Ecosystem"
   ]
  },
  {
   "cell_type": "markdown",
   "id": "263d58d9",
   "metadata": {},
   "source": [
    "In this notebook, Data Science Tools and Ecosystem are summarized"
   ]
  },
  {
   "cell_type": "markdown",
   "id": "57c49166",
   "metadata": {},
   "source": [
    "**Objectives:**\n",
    "- List popular languages for Data Science\n",
    "- List commonly used libraries in Data Science\n",
    "- Evaluate simple arithmetic expressions in Python\n",
    "- Convert units such as minutes to hours\n"
   ]
  },
  {
   "cell_type": "markdown",
   "id": "e16a98ae",
   "metadata": {},
   "source": [
    "Some of the popular languages that Data Scientists use are:\n",
    "1. Python\n",
    "2. R\n",
    "3. Julia\n",
    "4. SQL\n",
    "5. Scala"
   ]
  },
  {
   "cell_type": "markdown",
   "id": "e3ba55b1",
   "metadata": {},
   "source": [
    "Some of the commonly used libraries used by Data Scientists include:\n",
    "1. NumPy\n",
    "2. pandas\n",
    "3. Matplotlib\n",
    "4. Scikit-learn\n",
    "5. TensorFlow"
   ]
  },
  {
   "cell_type": "markdown",
   "id": "44a17bb8",
   "metadata": {},
   "source": [
    "### Data Science Tools:"
   ]
  },
  {
   "cell_type": "markdown",
   "id": "f400facc",
   "metadata": {},
   "source": [
    "| Data Science Tools      |\n",
    "|-------------------------|\n",
    "| Jupyter Notebook        |\n",
    "| RStudio                 |\n",
    "| Spyder                  |\n"
   ]
  },
  {
   "cell_type": "markdown",
   "id": "14456ccf",
   "metadata": {},
   "source": [
    "### Below are a few examples of evaluating arithmetic expressions in Python.\n",
    "\n",
    "1. **Addition**: `3 + 5 = 8`\n",
    "2. **Subtraction**: `10 - 4 = 6`\n",
    "3. **Multiplication**: `7 * 6 = 42`\n",
    "4. **Division**: `8 / 2 = 4.0`\n",
    "5. **Exponentiation**: `2 ** 3 = 8`\n",
    "6. **Modulus**: `9 % 4 = 1`\n"
   ]
  },
  {
   "cell_type": "markdown",
   "id": "9959f623",
   "metadata": {},
   "source": [
    "#### Arithmetic expression to multiply then add integers"
   ]
  },
  {
   "cell_type": "code",
   "execution_count": 3,
   "id": "48f44718",
   "metadata": {},
   "outputs": [
    {
     "name": "stdout",
     "output_type": "stream",
     "text": [
      "17\n"
     ]
    }
   ],
   "source": [
    "# This is a simple arithmetic expression to multiply then add integers\n",
    "result = (3 * 4) + 5\n",
    "print(result)  # Expected output: 17\n",
    "\n"
   ]
  },
  {
   "cell_type": "markdown",
   "id": "b9f27193",
   "metadata": {},
   "source": [
    "#### 200 minutes into hours"
   ]
  },
  {
   "cell_type": "code",
   "execution_count": 4,
   "id": "a6cb0ebe",
   "metadata": {},
   "outputs": [
    {
     "name": "stdout",
     "output_type": "stream",
     "text": [
      "3.3333333333333335\n"
     ]
    }
   ],
   "source": [
    "# This will convert 200 minutes to hours by dividing by 60\n",
    "minutes = 200\n",
    "hours = minutes / 60\n",
    "print(hours)  "
   ]
  },
  {
   "cell_type": "markdown",
   "id": "0928a693",
   "metadata": {},
   "source": [
    "### Below are a few examples of evaluating arithmetic expressions in Python.\n",
    "\n",
    "1. **Addition**: `3 + 5 = 8`\n",
    "2. **Subtraction**: `10 - 4 = 6`\n",
    "3. **Multiplication**: `7 * 6 = 42`\n",
    "4. **Division**: `8 / 2 = 4.0`\n",
    "5. **Exponentiation**: `2 ** 3 = 8`\n",
    "6. **Modulus**: `9 % 4 = 1`\n",
    "\n"
   ]
  },
  {
   "cell_type": "markdown",
   "id": "ac9a2b9a",
   "metadata": {},
   "source": [
    "## Author\n",
    "Abdirashid Mohamed Isse\n"
   ]
  },
  {
   "cell_type": "code",
   "execution_count": null,
   "id": "2aaa29f2",
   "metadata": {},
   "outputs": [],
   "source": []
  }
 ],
 "metadata": {
  "kernelspec": {
   "display_name": "Python 3 (ipykernel)",
   "language": "python",
   "name": "python3"
  },
  "language_info": {
   "codemirror_mode": {
    "name": "ipython",
    "version": 3
   },
   "file_extension": ".py",
   "mimetype": "text/x-python",
   "name": "python",
   "nbconvert_exporter": "python",
   "pygments_lexer": "ipython3",
   "version": "3.11.5"
  }
 },
 "nbformat": 4,
 "nbformat_minor": 5
}
